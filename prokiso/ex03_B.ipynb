{
  "nbformat": 4,
  "nbformat_minor": 0,
  "metadata": {
    "colab": {
      "name": "ex03-B.ipynb",
      "version": "0.3.2",
      "provenance": [],
      "collapsed_sections": [],
      "toc_visible": true,
      "include_colab_link": true
    },
    "language_info": {
      "codemirror_mode": {
        "name": "ipython",
        "version": 3
      },
      "file_extension": ".py",
      "mimetype": "text/x-python",
      "name": "python",
      "nbconvert_exporter": "python",
      "pygments_lexer": "ipython3",
      "version": "3.7.1"
    },
    "kernelspec": {
      "display_name": "Python 3",
      "language": "python",
      "name": "python3"
    }
  },
  "cells": [
    {
      "cell_type": "markdown",
      "metadata": {
        "id": "view-in-github",
        "colab_type": "text"
      },
      "source": [
        "<a href=\"https://colab.research.google.com/github/junyamahira/gitPractice/blob/master/prokiso/ex03_B.ipynb\" target=\"_parent\"><img src=\"https://colab.research.google.com/assets/colab-badge.svg\" alt=\"Open In Colab\"/></a>"
      ]
    },
    {
      "metadata": {
        "colab_type": "text",
        "id": "EqgDyWj4fXmV"
      },
      "cell_type": "markdown",
      "source": [
        "# 2019年4月22日（月曜日）\n",
        "# プログラミングI課題"
      ]
    },
    {
      "metadata": {
        "colab_type": "text",
        "id": "Jxr2BBvMumqM"
      },
      "cell_type": "markdown",
      "source": [
        "### 注意事項\n",
        "* 次回以降，プログラミング基礎1の講義や演習で新しくノートブックを作成したりアップロードしたりするときは， \n",
        "左のサイドバーで \"prokiso1-2019\" のフォルダに移動してから行おう．\n",
        "* 左のサイドバーで上位フォルダに移動するには，上部にあるフォルダ名をクリックすれば移動できる．\n",
        "\n",
        "* **その他にも，様々な機能が JupyterLab にはある．その操作を全て講義で説明することはできないが，知っていると便利な機能も沢山あるので，家で自分で調べておこう．**\n",
        "\n"
      ]
    },
    {
      "metadata": {
        "colab_type": "text",
        "id": "uN54cDHLfXmY"
      },
      "cell_type": "markdown",
      "source": [
        "## 課題1\n",
        "変数s = \"There is no royal road to programming.\"とする．以下の問いに答えよ．\n",
        "\n",
        "### 課題1-1\n",
        "変数sから\"royal\"を抜き出して表示せよ．"
      ]
    },
    {
      "metadata": {
        "colab_type": "code",
        "id": "Xgc_MNbpfXma",
        "colab": {}
      },
      "cell_type": "code",
      "source": [
        ""
      ],
      "execution_count": 0,
      "outputs": []
    },
    {
      "metadata": {
        "id": "JHV99H8tDXjU",
        "colab_type": "text"
      },
      "cell_type": "markdown",
      "source": [
        "### 課題1-2\n",
        "\n",
        "変数sの9文字目から20文字抜き出して表示せよ．"
      ]
    },
    {
      "metadata": {
        "id": "4zifs6uzDXjV",
        "colab_type": "code",
        "colab": {}
      },
      "cell_type": "code",
      "source": [
        ""
      ],
      "execution_count": 0,
      "outputs": []
    },
    {
      "metadata": {
        "colab_type": "text",
        "id": "NFFHpnvCfs1T"
      },
      "cell_type": "markdown",
      "source": [
        "## 課題2\n",
        "変数a = 10, 変数b = 20, 変数c = 30とする．以下の問いに答えよ．\n",
        "\n",
        "### 課題2-1\n",
        "比較演算子を用いて，各変数が23より小さいかをTrueまたはFalseで表示せよ．"
      ]
    },
    {
      "metadata": {
        "id": "Ug6SJpB9DXjY",
        "colab_type": "code",
        "colab": {}
      },
      "cell_type": "code",
      "source": [
        ""
      ],
      "execution_count": 0,
      "outputs": []
    },
    {
      "metadata": {
        "id": "XbLOXdQhDXja",
        "colab_type": "text"
      },
      "cell_type": "markdown",
      "source": [
        "### 課題2-2\n",
        "論理演算子を用いて，変数aは変数b,cより大きいかをTrueまたはFalseで表示せよ．"
      ]
    },
    {
      "metadata": {
        "id": "AXIyYOTyDXjb",
        "colab_type": "code",
        "colab": {}
      },
      "cell_type": "code",
      "source": [
        ""
      ],
      "execution_count": 0,
      "outputs": []
    },
    {
      "metadata": {
        "colab_type": "text",
        "id": "Ye8v1LjqgEuF"
      },
      "cell_type": "markdown",
      "source": [
        "## 課題3\n",
        "半径10メートルの円周の長さを求めるプログラムを作成せよ．\n",
        "\n",
        "ただし，変数pi = 3.14159とし，以下の実行結果を表示させること．なお，円周の長さを求める公式は$2\\pi r$である．\n",
        "\n",
        "【実行結果】\n",
        "\n",
        "半径10メートルの円周の長さは62.8318メートルである"
      ]
    },
    {
      "metadata": {
        "colab_type": "code",
        "id": "GEoPHfDBgISx",
        "colab": {}
      },
      "cell_type": "code",
      "source": [
        ""
      ],
      "execution_count": 0,
      "outputs": []
    },
    {
      "metadata": {
        "colab_type": "text",
        "id": "trd4x8sTg7c9"
      },
      "cell_type": "markdown",
      "source": [
        "## 課題4\n",
        "変数who = \"ボブ\"，変数animal = \"犬\"，変数where = \"公園\"，変数do = \"遊ぶ\"　とする．\n",
        "\n",
        "変数textに文字列を連結させ，以下の実行結果を表示させよ．ただし，表示方法はprint(text)とする．\n",
        "\n",
        "【実行結果】\n",
        "\n",
        "ボブは公園で犬と遊ぶ"
      ]
    },
    {
      "metadata": {
        "id": "p6lLG4X1DXjh",
        "colab_type": "code",
        "colab": {}
      },
      "cell_type": "code",
      "source": [
        ""
      ],
      "execution_count": 0,
      "outputs": []
    },
    {
      "metadata": {
        "id": "WVS2ArlODXjj",
        "colab_type": "text"
      },
      "cell_type": "markdown",
      "source": [
        "## 課題5\n",
        "円ドルの為替レートを変数rateに入れ，変数yenに日本円を入れると，ドルが表示されるプログラムを作成せよ．\n",
        "\n",
        "例えば，rate = 112，yen = 200とすると次のような実行結果を出力するように作成すること．\n",
        "ただし，端数は切り捨てとする\n",
        "\n",
        "【実行結果】\n",
        "\n",
        "200 円 =  1 ドル 78 セント"
      ]
    },
    {
      "metadata": {
        "id": "_5g3DXNxD5zD",
        "colab_type": "code",
        "outputId": "1b2889f2-59ce-4a81-a2bb-601d41468c3b",
        "colab": {
          "base_uri": "https://localhost:8080/",
          "height": 51
        }
      },
      "cell_type": "code",
      "source": [
        "yen= 200\n",
        "rate = 112\n",
        "\n",
        "dol = int(200/112)\n",
        "cent = int((200/112-dol)*100)\n",
        "print(dol)\n",
        "print(cent)\n"
      ],
      "execution_count": 0,
      "outputs": [
        {
          "output_type": "stream",
          "text": [
            "1\n",
            "78\n"
          ],
          "name": "stdout"
        }
      ]
    },
    {
      "metadata": {
        "id": "2mLW-dyHEEgW",
        "colab_type": "code",
        "colab": {}
      },
      "cell_type": "code",
      "source": [
        ""
      ],
      "execution_count": 0,
      "outputs": []
    }
  ]
}